{
 "cells": [
  {
   "cell_type": "code",
   "execution_count": 1,
   "metadata": {
    "ExecuteTime": {
     "end_time": "2022-07-09T11:27:25.969090Z",
     "start_time": "2022-07-09T11:27:25.850567Z"
    }
   },
   "outputs": [],
   "source": [
    "import numpy as np"
   ]
  },
  {
   "cell_type": "code",
   "execution_count": 2,
   "metadata": {
    "ExecuteTime": {
     "end_time": "2022-07-09T11:27:26.693400Z",
     "start_time": "2022-07-09T11:27:26.684395Z"
    }
   },
   "outputs": [],
   "source": [
    "def takeInput(filename):\n",
    "    \"\"\"\n",
    "    ### Description:\n",
    "    Takes the input from filename, reads the number of nodes and number edges, initializes te adjacency matrix of order n*n, and assigns value to 1 for pair of nodes which have directed edge.\n",
    "\n",
    "    ### Args:\n",
    "    `filename` : The name of the file from which we will take the required input.\n",
    "\n",
    "    ### Returns:\n",
    "    `arr` : The adjacency matrix.\n",
    "\n",
    "    `n` : The number of nodes.\n",
    "    \"\"\"\n",
    "    file = open(filename,'r')\n",
    "    n = int(file.readline().strip())\n",
    "    e = int(file.readline().strip())\n",
    "    arr = np.zeros((n,n))\n",
    "    for i in range(e):\n",
    "        line = file.readline()\n",
    "        edge = line.strip().split()\n",
    "        arr[int(edge[0]) - 1][int(edge[1]) - 1] = 1\n",
    "    return arr, n"
   ]
  },
  {
   "cell_type": "code",
   "execution_count": 3,
   "metadata": {
    "ExecuteTime": {
     "end_time": "2022-07-09T11:27:27.352101Z",
     "start_time": "2022-07-09T11:27:27.346101Z"
    }
   },
   "outputs": [],
   "source": [
    "def createProbabilityMatrix(arr, n, alpha, teleport):\n",
    "    \"\"\"\n",
    "    ### Description:\n",
    "    Creates the probability matrix.\n",
    "\n",
    "    ### Args:\n",
    "    `arr` : The adjacency matrix.\n",
    "\n",
    "    `n` : The number of nodes.\n",
    "\n",
    "    `alpha` : probability of teleportation if its allowed.\n",
    "\n",
    "    `teleport` : The boolean value whether teleportation is allowed or not.\n",
    "\n",
    "    ### Returns:\n",
    "    returns the probability matrix.\n",
    "    \"\"\"\n",
    "    if(not teleport):\n",
    "        alpha=0\n",
    "    rowsums = np.sum(arr, axis = 1)\n",
    "    prob = np.zeros((n,n))\n",
    "    for i in range(n):\n",
    "        if (rowsums[i] == 0):\n",
    "            prob[i] = (1.0/n) if teleport else 0\n",
    "        else:\n",
    "            prob[i] = arr[i]/rowsums[i]\n",
    "            prob[i] = prob[i]*(1 - alpha) \n",
    "            prob[i] = prob[i] + (alpha/n)   #(1 if rowsums[i] == 0 else rowsums[i])\n",
    "    return prob"
   ]
  },
  {
   "cell_type": "code",
   "execution_count": 4,
   "metadata": {
    "ExecuteTime": {
     "end_time": "2022-07-09T11:27:27.911012Z",
     "start_time": "2022-07-09T11:27:27.906012Z"
    }
   },
   "outputs": [],
   "source": [
    "def power_iteration(prob, n):\n",
    "    \"\"\"\n",
    "    ### Description:\n",
    "    Implementation of PageRank algorithm using power iteration method.\n",
    "\n",
    "    ### Args:\n",
    "    `prob` : The probability matrix.\n",
    "\n",
    "    `n` : The number of nodes.\n",
    "\n",
    "    ### Returns:\n",
    "    Doesn't returns anything, but prints the desired output.\n",
    "    \"\"\"\n",
    "    old = np.zeros((1,n))\n",
    "    old[0][2] = 1.0\n",
    "    new = old@prob\n",
    "    diff = np.abs(new - old)\n",
    "    while (np.sum(diff) > 0.00000001):\n",
    "        temp = new@prob\n",
    "        old = new\n",
    "        new = temp\n",
    "        diff = np.abs(old - new)\n",
    "    print(\"PageRank scores using power iteration: \", new)\n",
    "    print(\"Descending order of nodes by PageRank:\")\n",
    "    print((np.flip(np.argsort(new[0]))+1))\n"
   ]
  },
  {
   "cell_type": "code",
   "execution_count": 5,
   "metadata": {
    "ExecuteTime": {
     "end_time": "2022-07-09T11:27:28.628810Z",
     "start_time": "2022-07-09T11:27:28.617811Z"
    }
   },
   "outputs": [],
   "source": [
    "def rankAndSort(prob, n):\n",
    "    \"\"\"\n",
    "    ### Description:\n",
    "    Implementation of PageRank algorithm using linear algebra packages.\n",
    "\n",
    "    ### Args:\n",
    "    `prob` : The probability matrix.\n",
    "\n",
    "    `n` : The number of nodes.\n",
    "\n",
    "    ### Returns:\n",
    "    Doesn't returns anything, but prints the desired output.\n",
    "    \"\"\"\n",
    "    v, V = np.linalg.eig(prob.T)\n",
    "    for i in range(v.size):\n",
    "        if (np.abs(v[i] - 1.0000) < 0.0000001):\n",
    "            index = i\n",
    "    leftvec = V[:,index].T\n",
    "    ans = leftvec/np.sum(leftvec)\n",
    "    print(\"PageRank scores using linear algebra packages: \", ans)\n",
    "    print(\"Descending order of nodes by PageRank:\")\n",
    "    print((np.flip(np.argsort(ans))+1))\n",
    "    evalues = np.abs(v)\n",
    "    indices = np.argsort(evalues)\n",
    "    if(evalues.size == 1 or evalues[indices[-1]] - evalues[indices[-2]] > 0.00000001):\n",
    "        power_iteration(prob, n)\n",
    "    else:\n",
    "        print(\"Power iteration method does not converge for this matrix!\")"
   ]
  },
  {
   "cell_type": "code",
   "execution_count": 6,
   "metadata": {
    "ExecuteTime": {
     "end_time": "2022-07-09T11:27:29.300456Z",
     "start_time": "2022-07-09T11:27:29.287455Z"
    }
   },
   "outputs": [],
   "source": [
    "def sortByPageRank(filename, alpha, teleport):\n",
    "    \"\"\"\n",
    "    ### Description:\n",
    "    This is the driver function, which would be calling all the required functions.\n",
    "\n",
    "    ### Args:\n",
    "    `filename` : The name of the file which contains the input.\n",
    "\n",
    "    `alpha` : probability of teleportation if its allowed.\n",
    "\n",
    "    `teleport` : Whether to run the PageRank algorithm with teleportation allowed or not.\n",
    "\n",
    "    ### Returns:\n",
    "    Doesn't returns anything.\n",
    "    \"\"\"\n",
    "    arr, n = takeInput(filename)\n",
    "    print(arr)\n",
    "    prob = createProbabilityMatrix(arr, n, alpha, teleport)\n",
    "    rankAndSort(prob, n)"
   ]
  },
  {
   "cell_type": "code",
   "execution_count": 7,
   "metadata": {
    "ExecuteTime": {
     "end_time": "2022-07-09T11:27:30.373849Z",
     "start_time": "2022-07-09T11:27:30.361849Z"
    }
   },
   "outputs": [
    {
     "name": "stdout",
     "output_type": "stream",
     "text": [
      "[[0. 1. 0. 0.]\n",
      " [0. 0. 0. 0.]\n",
      " [0. 1. 0. 1.]\n",
      " [0. 1. 1. 0.]]\n",
      "PageRank scores using linear algebra packages:  [0.17142857 0.37142857 0.22857143 0.22857143]\n",
      "Descending order of nodes by PageRank:\n",
      "[2 4 3 1]\n",
      "PageRank scores using power iteration:  [[0.17142857 0.37142857 0.22857143 0.22857143]]\n",
      "Descending order of nodes by PageRank:\n",
      "[2 4 3 1]\n"
     ]
    }
   ],
   "source": [
    "sortByPageRank('input.txt', alpha=0.5, teleport=True)"
   ]
  }
 ],
 "metadata": {
  "interpreter": {
   "hash": "3fa3e461f58fe27ba7d87af077f048d9ca05c7e010acfb1f6348da64ae04b024"
  },
  "kernelspec": {
   "display_name": "Python 3 (ipykernel)",
   "language": "python",
   "name": "python3"
  },
  "language_info": {
   "codemirror_mode": {
    "name": "ipython",
    "version": 3
   },
   "file_extension": ".py",
   "mimetype": "text/x-python",
   "name": "python",
   "nbconvert_exporter": "python",
   "pygments_lexer": "ipython3",
   "version": "3.9.7"
  }
 },
 "nbformat": 4,
 "nbformat_minor": 2
}
